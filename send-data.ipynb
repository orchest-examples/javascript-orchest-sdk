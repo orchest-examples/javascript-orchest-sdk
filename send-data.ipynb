{
 "cells": [
  {
   "cell_type": "code",
   "execution_count": 1,
   "metadata": {},
   "outputs": [
    {
     "data": {
      "text/plain": [
       "undefined"
      ]
     },
     "execution_count": 1,
     "metadata": {},
     "output_type": "execute_result"
    }
   ],
   "source": [
    "var pythonBridge = require(\"python-bridge\")"
   ]
  },
  {
   "cell_type": "code",
   "execution_count": 2,
   "metadata": {},
   "outputs": [
    {
     "data": {
      "text/plain": [
       "undefined"
      ]
     },
     "execution_count": 2,
     "metadata": {},
     "output_type": "execute_result"
    }
   ],
   "source": [
    "var python = pythonBridge({python: \"python3\", stdio: []});"
   ]
  },
  {
   "cell_type": "code",
   "execution_count": 3,
   "metadata": {},
   "outputs": [
    {
     "data": {
      "text/plain": [
       "Promise [Object] {\n",
       "  _bitField: 0,\n",
       "  _fulfillmentHandler0: undefined,\n",
       "  _rejectionHandler0: undefined,\n",
       "  _promise0: undefined,\n",
       "  _receiver0: undefined\n",
       "}"
      ]
     },
     "execution_count": 3,
     "metadata": {},
     "output_type": "execute_result"
    }
   ],
   "source": [
    "python.ex`import orchest`"
   ]
  },
  {
   "cell_type": "code",
   "execution_count": 4,
   "metadata": {},
   "outputs": [
    {
     "data": {
      "text/plain": [
       "Promise [Object] {\n",
       "  _bitField: 0,\n",
       "  _fulfillmentHandler0: undefined,\n",
       "  _rejectionHandler0: undefined,\n",
       "  _promise0: undefined,\n",
       "  _receiver0: undefined\n",
       "}"
      ]
     },
     "execution_count": 4,
     "metadata": {},
     "output_type": "execute_result"
    }
   ],
   "source": [
    "python`orchest.output(${[1, 2, 3]}, name='step1')`"
   ]
  }
 ],
 "metadata": {
  "kernelspec": {
   "display_name": "JavaScript",
   "language": "javascript",
   "name": "orchest-kernel-261ba726-5650-42de-85d3-01d984fde66c"
  },
  "language_info": {
   "file_extension": ".js",
   "mimetype": "application/javascript",
   "name": "javascript",
   "version": "16.15.0"
  }
 },
 "nbformat": 4,
 "nbformat_minor": 4
}
